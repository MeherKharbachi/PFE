{
 "cells": [
  {
   "cell_type": "markdown",
   "id": "9f2d7c4d",
   "metadata": {},
   "source": [
    "# Natural language processing Task"
   ]
  },
  {
   "cell_type": "markdown",
   "id": "055ea76c",
   "metadata": {
    "citation-manager": {
     "citations": {
      "cfvjb": [
       {
        "id": "11983139/J4T53NKQ",
        "source": "zotero"
       }
      ]
     }
    },
    "tags": []
   },
   "source": [
    "To fill the gap between human communication and machine understanding, NLP (Natural Language Processing) contains a range of sciences, including computer science and computational linguistics. It is significant because it aids in the resolution of linguistic ambiguity and provides quantitative structure to data for a variety of real - world applications such as speech recognition and text analytics.\n",
    "<br>After completing our first task, which was to extract previews from the Guardian website, we began our second task, which was to reproduce the results of the <cite id=\"cfvjb\"><a href=\"#zotero|11983139/J4T53NKQ\">(Beal et al., 2021)</a></cite> article by processing and analyzing the texts that we had extracted.\n",
    "The article's authors proceeded as follows:\n",
    "\n",
    "- <b> Information extraction</b>: they extracted the main features of each sentence in the article's text.\n",
    "\n",
    "- <b>Allocation of Text Context</b>: each sentence is assigned to a team.\n",
    "\n",
    "- <b>Text Vectorisation</b>: they converted the sentences into vectors using a Count Vectorizer technique to have a numerical representation of the words in a sentence.\n",
    "\n",
    "- <b>Prediction</b>: Once the feature set for each game is formed, they trained a Random Forest model using historic "
   ]
  },
  {
   "cell_type": "markdown",
   "id": "a66675e7",
   "metadata": {},
   "source": [
    "## Information extraction"
   ]
  },
  {
   "cell_type": "markdown",
   "id": "9ac64b65",
   "metadata": {},
   "source": [
    "Information Extraction (IE) is the process of extracting meaningful information from unstructured text data and presenting it in a structured format.\n",
    "<br>We can use information extraction to retrieve pre-defined information, such as a person's name, the location of an organisation, or the identification of a relationship between entities, and save it in a structured format, such as a database. This technique is called the Named Entity Recognition."
   ]
  },
  {
   "cell_type": "markdown",
   "id": "582fbe6c",
   "metadata": {},
   "source": [
    "### Named Entity Recognition (NER)"
   ]
  },
  {
   "cell_type": "markdown",
   "id": "12c7df80",
   "metadata": {},
   "source": [
    "The task of identifying and categorizing key information in text is known as Named Entity Recognition (NER). It is also known as entity extraction or identification. Each detected entity is assigned to a predefined category.\n",
    "An NER model, for example, may detect the word \"Mark\" in a text and classify it as a \"Person.\""
   ]
  },
  {
   "cell_type": "markdown",
   "id": "5176733f",
   "metadata": {},
   "source": [
    "<br>However, before the IE step, Data Preprocessing is required for any Machine Learning model. The model's performance is heavily influenced by how well the raw data has been cleaned and preprocessed. Similarly, in the case of NLP, the first step is text processing.\n",
    "<br>The various preprocessing steps are as follows:\n",
    "\n",
    "* Lower Casing \n",
    "* Tokenization\n",
    "* Punctuation Mark Removal\n",
    "* Stop Word Removal\n",
    "* Lemmatization"
   ]
  },
  {
   "cell_type": "markdown",
   "id": "78341338",
   "metadata": {},
   "source": [
    "### Lower Casing"
   ]
  },
  {
   "cell_type": "markdown",
   "id": "ce32ce25",
   "metadata": {},
   "source": [
    "When we get text input, such as a paragraph, we find both lower and upper case words.On the other hand, The computer considers the identical words typed in various cases to be separate entities.For example, The computer, considers 'football' and 'FOOTBALL' to be two distinct terms, despite the fact that they both imply the same thing.We must change all of the words to lower case in order to solve this problem. The text will be more consistent as a result of this. "
   ]
  },
  {
   "cell_type": "markdown",
   "id": "2e03a16e",
   "metadata": {},
   "source": [
    "### Tokenization"
   ]
  },
  {
   "cell_type": "markdown",
   "id": "4947c3c4",
   "metadata": {},
   "source": [
    "Tokenization is the next text preparation step. Tokenization is the act of dividing a paragraph into smaller parts like sentences or words. Each unit is then treated as a separate token. Tokenization's primary premise is to attempt to grasp the meaning of the text by studying the smaller components or tokens that comprise the paragraph."
   ]
  },
  {
   "cell_type": "markdown",
   "id": "4318b190",
   "metadata": {},
   "source": [
    "### Punctuation Marks Removal"
   ]
  },
  {
   "cell_type": "markdown",
   "id": "02d2b768",
   "metadata": {},
   "source": [
    "Depending on the scenario, we may need to delete or keep punctuation from the text."
   ]
  },
  {
   "cell_type": "markdown",
   "id": "bf9326fa",
   "metadata": {},
   "source": [
    "### Stop Words Removal"
   ]
  },
  {
   "cell_type": "markdown",
   "id": "0046d94f",
   "metadata": {},
   "source": [
    "Stop words are words that appear often in any language but do not contribute much sense to sentences. These are frequent terms that are part of any language's grammar. Stop words are unique to each language.For example, Stop words in English include \"the,\" \"he,\" \"he,\" \"his,\" \"her,\" \"herself,\" and so on. By removing stop words, we may successfully lower the dimensionality of our text collection without sacrificing any important information."
   ]
  },
  {
   "cell_type": "markdown",
   "id": "58666dfd",
   "metadata": {},
   "source": [
    "### Lemmatization"
   ]
  },
  {
   "cell_type": "markdown",
   "id": "9b7f50b9",
   "metadata": {},
   "source": [
    "Because there are many words in a text that have the same root and meaning, it is evident to normalise the text by applying the lemmatization technique, which helps to reduce a given term to its root word."
   ]
  },
  {
   "cell_type": "markdown",
   "id": "7ccab91b",
   "metadata": {},
   "source": [
    "## Allocation of text context"
   ]
  },
  {
   "cell_type": "markdown",
   "id": "6b00e029",
   "metadata": {},
   "source": [
    "This section consists of assigning each sentence to the appropriate team. In a preview, for example, the journalist may discuss squad A or team B. As a result, we will have three columns: one for sentences about team A, another for sentences about team B, and a third for sentences about both teams at the same time."
   ]
  },
  {
   "cell_type": "markdown",
   "id": "d14c59ff",
   "metadata": {},
   "source": [
    "## Text vectorisation"
   ]
  },
  {
   "cell_type": "markdown",
   "id": "fd75f980",
   "metadata": {},
   "source": [
    "When the text processing and allocation phases are completed, it is time to begin the modeling phase.\n",
    "<br>However, our model will not be able to understand these raw texts, so we must convert them into vectors, which are digital representations of these character strings.Here, the goal is to extract textual features so that the model can learn.\n",
    "<br>Among the vectorization techniques, we highlight the bag of words: it is a very simple technique that calculates the vectors of a text based on the frequency of vocabulary words.\n",
    "It is simple to interpret and only refers to the frequency of vocabulary words in a given document.\n",
    "<br>As a result, articles, prepositions, and conjunctions that do not contribute much to meaning are just as important as adjectives or verbs.\n",
    "<br>An example for the count vectorization technique:"
   ]
  },
  {
   "cell_type": "markdown",
   "id": "d2af5a1e",
   "metadata": {},
   "source": [
    "![title](images/countvector.png)"
   ]
  },
  {
   "cell_type": "markdown",
   "id": "2dfcb361",
   "metadata": {},
   "source": [
    "<br>In addition, there are other techniques that, in general, work better in machine learning models to address this issue such as TF-IDF: term frequency-inverse document frequency.\n",
    "<br>The idea behind the TF-IDF approach is that words that appear less frequently in all documents but more frequently in individual documents contribute more to classification.\n",
    "these terms can be calculated as follows:"
   ]
  },
  {
   "cell_type": "markdown",
   "id": "5991d3b2",
   "metadata": {},
   "source": [
    "![title](images/tfidf.png)"
   ]
  },
  {
   "cell_type": "markdown",
   "id": "f05fb476",
   "metadata": {},
   "source": [
    "## Prediction"
   ]
  },
  {
   "cell_type": "markdown",
   "id": "37facd74",
   "metadata": {},
   "source": [
    "There are various methods in machine learning for dealing with classification or regression problems that are highly fascinating to try.\n",
    "<br>In this work, we will use a random forest classifier that takes vectorized texts as input to predict the outcomes of football matches(Home win, Away win, Draw)."
   ]
  },
  {
   "cell_type": "markdown",
   "id": "86c6efa5",
   "metadata": {},
   "source": [
    "## Proof of concept"
   ]
  },
  {
   "cell_type": "markdown",
   "id": "9ead2e91",
   "metadata": {},
   "source": [
    "### Information Extraction"
   ]
  },
  {
   "cell_type": "markdown",
   "id": "8c8153a4",
   "metadata": {},
   "source": [
    "#### Named Entity Recognition (NER)"
   ]
  },
  {
   "cell_type": "markdown",
   "id": "77ff6a62",
   "metadata": {},
   "source": [
    "In our case, identifying the names of the teams in the previews is a critical task that will allow us to extract the main features in our text.\n",
    "<br>This operation is not possible with the standard spacy NER because of errors in entity detection; spacy can consider a team name to be a person and vice versa.\n",
    "<br>To address this issue, we decided to build a model that will allow us to detect our own entities."
   ]
  },
  {
   "cell_type": "markdown",
   "id": "b6de514b",
   "metadata": {},
   "source": [
    "##### Example"
   ]
  },
  {
   "cell_type": "markdown",
   "id": "35ae9c37",
   "metadata": {},
   "source": [
    "![title](images/ner.png)"
   ]
  },
  {
   "cell_type": "markdown",
   "id": "d61e67c0",
   "metadata": {},
   "source": [
    "![title](images/ner2.png)"
   ]
  },
  {
   "cell_type": "markdown",
   "id": "2ca0cab5",
   "metadata": {},
   "source": [
    "##### Train a model to detect custom entities"
   ]
  },
  {
   "cell_type": "markdown",
   "id": "e79626f4",
   "metadata": {},
   "source": [
    "![title](images/ner3.png)\n",
    "![title](images/ner4.png)"
   ]
  },
  {
   "cell_type": "markdown",
   "id": "e7700fe9",
   "metadata": {},
   "source": [
    "We test again:"
   ]
  },
  {
   "cell_type": "markdown",
   "id": "12c3a87c",
   "metadata": {},
   "source": [
    "![title](images/ner5.png)"
   ]
  },
  {
   "cell_type": "markdown",
   "id": "2ab81ea2",
   "metadata": {},
   "source": [
    "#### Entity ruler "
   ]
  },
  {
   "cell_type": "markdown",
   "id": "541857c2",
   "metadata": {},
   "source": [
    "Using token-based rules or exact phrase matches, the entity ruler allows us to add spans to the Doc entities. It can be used in conjunction with the statistical EntityRecognizer to improve accuracy, or it can be used on its own to implement a rule-based entity recognition system.\n",
    "<br>We took advantage of the dataset that we have which contains the teams and their different names.\n",
    "In this sense we have linked each name or nickname of a team to its main entity"
   ]
  },
  {
   "cell_type": "markdown",
   "id": "4300579e",
   "metadata": {},
   "source": [
    "![title](images/ner6.png)"
   ]
  },
  {
   "cell_type": "markdown",
   "id": "12f67c1b",
   "metadata": {},
   "source": [
    "For example the nickname Spurs is now detectable in the text that is linked to the Tottenham Hotspur entity"
   ]
  },
  {
   "cell_type": "markdown",
   "id": "3ad7f1b1",
   "metadata": {},
   "source": [
    "![title](images/ner7.png)"
   ]
  },
  {
   "cell_type": "markdown",
   "id": "9f60d396",
   "metadata": {},
   "source": [
    "#### Get the names of the coaches"
   ]
  },
  {
   "cell_type": "markdown",
   "id": "c75da013",
   "metadata": {},
   "source": [
    "We also noticed that in most of the previews, we find the names of the managers but not the names of the teams,\n",
    "so to ensure the extraction of information, we used a database that we have that contains a history of managers for each team.<br>As a result, it is now easier to identify the section of the text that refers to one of the two teams."
   ]
  },
  {
   "cell_type": "markdown",
   "id": "c3f48083",
   "metadata": {},
   "source": [
    "Example of the dataset:"
   ]
  },
  {
   "cell_type": "markdown",
   "id": "61810a9b",
   "metadata": {},
   "source": [
    "![title](images/coach1.png)"
   ]
  },
  {
   "cell_type": "markdown",
   "id": "78994c56",
   "metadata": {},
   "source": [
    "The final output: for each preview, we have the coaches of each team.\n"
   ]
  },
  {
   "cell_type": "markdown",
   "id": "190dd75e",
   "metadata": {},
   "source": [
    "![title](images/coach2.png)"
   ]
  },
  {
   "cell_type": "markdown",
   "id": "cd46ad3f",
   "metadata": {},
   "source": [
    "#### Previews Preprocessing"
   ]
  },
  {
   "cell_type": "markdown",
   "id": "8144ca1d",
   "metadata": {},
   "source": [
    "First of all, beginning with the tokenization step, which is the task of chopping up texts into pieces in order to remove stop words such as (the,a,an,so,what..). We also removed all punctuation because it isn't important in the text, and then we used a lemmatization technique that allows for lexical processing, such as (runs, running,ran) returns run."
   ]
  },
  {
   "cell_type": "markdown",
   "id": "16373fdf",
   "metadata": {},
   "source": [
    "##### Example"
   ]
  },
  {
   "cell_type": "markdown",
   "id": "95256f6b",
   "metadata": {},
   "source": [
    "![title](images/text1.png)"
   ]
  },
  {
   "cell_type": "markdown",
   "id": "623886e6",
   "metadata": {},
   "source": [
    "![title](images/token.png)"
   ]
  },
  {
   "cell_type": "markdown",
   "id": "8da9e89f",
   "metadata": {},
   "source": [
    "We continue our normalization and move on to the next step, which is detecting the names of the two teams, the names of the coaches, and changing their names by hometeam, awayteam, homecoach, and awaycoach.The reason for this is so that our model's predictions can generalize.\n",
    "<br>We noticed that the words 'hosts,' 'home side,' and 'visitors,' which refer to the home team and away team, are frequently used in the previews, and they have been changed."
   ]
  },
  {
   "cell_type": "markdown",
   "id": "4ed086a5",
   "metadata": {},
   "source": [
    "We take the same example:"
   ]
  },
  {
   "cell_type": "markdown",
   "id": "911d461e",
   "metadata": {},
   "source": [
    "![title](images/text2.png)"
   ]
  },
  {
   "cell_type": "markdown",
   "id": "3bea8037",
   "metadata": {},
   "source": [
    "Preview after cleanning:"
   ]
  },
  {
   "cell_type": "markdown",
   "id": "19ae9591",
   "metadata": {},
   "source": [
    "![title](images/preview.png)"
   ]
  },
  {
   "cell_type": "markdown",
   "id": "f88ce5f2",
   "metadata": {},
   "source": [
    "Preview after normalization:"
   ]
  },
  {
   "cell_type": "markdown",
   "id": "eda474cf",
   "metadata": {},
   "source": [
    "![title](images/preview2.png)"
   ]
  },
  {
   "cell_type": "markdown",
   "id": "addab86c",
   "metadata": {},
   "source": [
    "### Text allocation"
   ]
  },
  {
   "cell_type": "markdown",
   "id": "da82c963",
   "metadata": {},
   "source": [
    "After having cleaned and normalized the texts, obtaining the target values of each preview, we move on to the next step which consists of decomposing the texts of each preview and allocating each sentence to the corresponding team.\n",
    "for some previews, there are sentences that talk about the two teams, that's why we created 3 new columns for our dataset:\n",
    "- homeTeamText: this is the text that talks about home team\n",
    "- awayTeamText: this is the text that talks about away team\n",
    "- bothteamText: this is the text that speaks of the two teams\n",
    "\n",
    "<br> Here we have worked with the pre-built entities to detect teams names in the text, but as we said , this is not always reliable that's why we have employed the teams and the coaches dataset which contains their different names to search it in each sentence.\n",
    "<br> If the home team name or the home coach name are included in the sentence , so it's very likely that it's related to the home team and it's the same scenario for away team.\n",
    "<br> We also noticed that the words ‘hosts’,‘home side’,'home crowd','these sides','these teams','both teams','two sides' and ‘visitors’ which refer to the home team and away team, are frequently used in the previews, so we changed these terms by 'bothteam' to detect sentences."
   ]
  },
  {
   "cell_type": "markdown",
   "id": "640961a9",
   "metadata": {},
   "source": [
    "![title](images/vecttext.png)"
   ]
  },
  {
   "cell_type": "markdown",
   "id": "6fa0b9f8",
   "metadata": {},
   "source": [
    "### Text vectorisation"
   ]
  },
  {
   "cell_type": "markdown",
   "id": "ba307162",
   "metadata": {},
   "source": [
    "It should be emphasized that for this work, we will utilize the count vectorizer approach to vectorize the preview texts.\n",
    "<br>This function comprises certain hyperparameters that must be fixed and find the best combinations in order to increase the quality of the vectors.\n",
    "<br>Among these hyperparameters, we can find:\n",
    "- stop_words: CountVectorizer provides a predefined set of stop words; in our case, we can specify 'english.' \n",
    "- ngram_range: the number of word combinations to consider, for example (1,1) takes only tokens, whereas (1,2) specifies that we want to consider both unigrams (single words) and bigrams (combination of 2 words)\n",
    "- min_df:stands for minimum document frequency; it disregards words with a document frequency that is strictly lower than the specified threshold."
   ]
  },
  {
   "cell_type": "markdown",
   "id": "a8557f92",
   "metadata": {},
   "source": [
    "### Prediction"
   ]
  },
  {
   "cell_type": "markdown",
   "id": "4a0c6c8f",
   "metadata": {},
   "source": [
    "#### Get target values"
   ]
  },
  {
   "cell_type": "markdown",
   "id": "da7e0980",
   "metadata": {},
   "source": [
    "To enable our model to train and make predictions, we must first provide the target values (the outputs of the matches).\n",
    "<br>We have set two target values:\n",
    "\n",
    "- The outcome of a match: home win, away win, draw\n",
    "    \n",
    "- The goal difference: the difference in goals scored"
   ]
  },
  {
   "cell_type": "markdown",
   "id": "49e3b571",
   "metadata": {},
   "source": [
    "![title](images/final_data.png)"
   ]
  },
  {
   "cell_type": "markdown",
   "id": "1cfffe62",
   "metadata": {},
   "source": [
    "#### The proportions of the results"
   ]
  },
  {
   "cell_type": "markdown",
   "id": "bb87c9a5",
   "metadata": {},
   "source": [
    "It is worth noting that the class distribution of English Premier League games that we have from 2009 to 2022 is 45% home wins, draws 25% and away wins 30%."
   ]
  },
  {
   "cell_type": "markdown",
   "id": "b1e50cf3",
   "metadata": {},
   "source": [
    "![title](images/stats.png)"
   ]
  },
  {
   "cell_type": "markdown",
   "id": "fbd097f8",
   "metadata": {},
   "source": [
    "#### Split data into train and test dataset"
   ]
  },
  {
   "cell_type": "markdown",
   "id": "51f2c4c5",
   "metadata": {},
   "source": [
    "Before setting up a machine learning model, we must divide our data into train and test data. the train dataset is used to train the machine learning model and the test dataset is to assess the fit, which is data that the model has never seen before. To accomplish this, we will take data from 2009 to 2018 for the train data and the rest from the 2019 until now for the test dataset. The reason of not applying a shuffle is to avoid distorting the temporal order of the matches."
   ]
  },
  {
   "cell_type": "markdown",
   "id": "876ce580",
   "metadata": {},
   "source": [
    "#### Random Forest Classifier"
   ]
  },
  {
   "cell_type": "markdown",
   "id": "539063a4",
   "metadata": {},
   "source": [
    "A random forest's fundamental notion is to aggregate a large number of individual decision trees into a single model that function as an ensemble. All individual tree projections are pooled, and the class with the highest votes becomes our model's prediction.\n",
    "We have to note that each tree uses slightly different subsets of data, which means they may not contain the same columns and rows\n",
    "<br>In addition, we can experiment with several hyperparameters in the Random forest classifier to increase model performance, such as:\n",
    "- n_estimators: the number of trees that the classifier will consider.\n",
    "- max_depth: the longest path from the root node to the leaf node.\n",
    "- min_sample_split: the minimal amount of observations required to split any given node.\n",
    "- Criterion: a function that determines how good a split is. we can experiment with (gini,entropy) values."
   ]
  },
  {
   "cell_type": "markdown",
   "id": "ff4ec0c4",
   "metadata": {},
   "source": [
    "## Reference"
   ]
  },
  {
   "cell_type": "markdown",
   "id": "d179326f",
   "metadata": {},
   "source": [
    "<!-- BIBLIOGRAPHY START -->\n",
    "<div class=\"csl-bib-body\">\n",
    "  <div class=\"csl-entry\"><i id=\"zotero|11983139/J4T53NKQ\"></i>Beal, R., Middleton, S. E., Norman, T. J., &#38; Ramchurn, S. D. (2021). Combining Machine Learning and Human Experts to Predict Match Outcomes in Football: A Baseline Model. <i>Proceedings of the AAAI Conference on Artificial Intelligence, 35(17), 15447-15451</i>.  https://ojs.aaai.org/index.php/AAAI/article/view/17815</div>\n",
    "</div>\n",
    "<!-- BIBLIOGRAPHY END -->"
   ]
  }
 ],
 "metadata": {
  "citation-manager": {
   "items": {
    "zotero": {
     "11983139/J4T53NKQ": {
      "URL": "http://arxiv.org/abs/2012.04380",
      "abstract": "In this paper, we present a new application-focused benchmark dataset and results from a set of baseline Natural Language Processing and Machine Learning models for prediction of match outcomes for games of football (soccer). By doing so we give a baseline for the prediction accuracy that can be achieved exploiting both statistical match data and contextual articles from human sports journalists. Our dataset is focuses on a representative time-period over 6 seasons of the English Premier League, and includes newspaper match previews from The Guardian. The models presented in this paper achieve an accuracy of 63.18% showing a 6.9% boost on the traditional statistical methods.",
      "accessed": {
       "date-parts": [
        [
         2022,
         2,
         24
        ]
       ]
      },
      "author": [
       {
        "family": "Beal",
        "given": "Ryan"
       },
       {
        "family": "Middleton",
        "given": "Stuart E."
       },
       {
        "family": "Norman",
        "given": "Timothy J."
       },
       {
        "family": "Ramchurn",
        "given": "Sarvapali D."
       }
      ],
      "container-title": "arXiv:2012.04380 [cs]",
      "id": "11983139/J4T53NKQ",
      "issued": {
       "date-parts": [
        [
         2020,
         12,
         8
        ]
       ]
      },
      "note": "arXiv: 2012.04380",
      "shortTitle": "Combining Machine Learning and Human Experts to Predict Match Outcomes in Football",
      "system_id": "zotero|11983139/J4T53NKQ",
      "title": "Combining Machine Learning and Human Experts to Predict Match Outcomes in Football: A Baseline Model",
      "type": "article-journal"
     }
    }
   }
  },
  "kernelspec": {
   "display_name": "Python 3 (ipykernel)",
   "language": "python",
   "name": "python3"
  },
  "language_info": {
   "codemirror_mode": {
    "name": "ipython",
    "version": 3
   },
   "file_extension": ".py",
   "mimetype": "text/x-python",
   "name": "python",
   "nbconvert_exporter": "python",
   "pygments_lexer": "ipython3",
   "version": "3.9.7"
  }
 },
 "nbformat": 4,
 "nbformat_minor": 5
}
