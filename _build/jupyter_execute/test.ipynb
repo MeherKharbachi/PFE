{
 "cells": [
  {
   "cell_type": "markdown",
   "id": "6f1ec4ac",
   "metadata": {},
   "source": [
    "# Introduction"
   ]
  },
  {
   "cell_type": "markdown",
   "id": "66fdc5fd",
   "metadata": {},
   "source": [
    "kldsklsdkl"
   ]
  },
  {
   "cell_type": "markdown",
   "id": "556839d4",
   "metadata": {},
   "source": [
    "## hhh"
   ]
  },
  {
   "cell_type": "markdown",
   "id": "55a64c8e",
   "metadata": {},
   "source": [
    "ddd"
   ]
  }
 ],
 "metadata": {
  "kernelspec": {
   "display_name": "Python 3 (ipykernel)",
   "language": "python",
   "name": "python3"
  },
  "language_info": {
   "codemirror_mode": {
    "name": "ipython",
    "version": 3
   },
   "file_extension": ".py",
   "mimetype": "text/x-python",
   "name": "python",
   "nbconvert_exporter": "python",
   "pygments_lexer": "ipython3",
   "version": "3.7.11"
  }
 },
 "nbformat": 4,
 "nbformat_minor": 5
}