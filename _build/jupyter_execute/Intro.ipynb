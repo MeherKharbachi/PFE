{
 "cells": [
  {
   "cell_type": "markdown",
   "id": "30103220",
   "metadata": {},
   "source": [
    "# A multi-task learning approach to predict the outcome of a football game using human experts input"
   ]
  },
  {
   "cell_type": "markdown",
   "id": "9b8a3dd8",
   "metadata": {},
   "source": [
    "In this work, we propose to exploit a new type of data to capture the game environment. We will extend the methodology described in and build a multi-head multi task deep learning network able to digest both Text data provided by human football experts and more standard time series tabular data. The results will be compared to traditional and machine learning approaches described in the literature."
   ]
  }
 ],
 "metadata": {
  "kernelspec": {
   "display_name": "Python 3 (ipykernel)",
   "language": "python",
   "name": "python3"
  },
  "language_info": {
   "codemirror_mode": {
    "name": "ipython",
    "version": 3
   },
   "file_extension": ".py",
   "mimetype": "text/x-python",
   "name": "python",
   "nbconvert_exporter": "python",
   "pygments_lexer": "ipython3",
   "version": "3.7.11"
  }
 },
 "nbformat": 4,
 "nbformat_minor": 5
}