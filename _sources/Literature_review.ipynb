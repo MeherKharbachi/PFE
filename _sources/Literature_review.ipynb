{
 "cells": [
  {
   "cell_type": "markdown",
   "id": "c9a409e3",
   "metadata": {},
   "source": [
    "# Literature review\n",
    "\n",
    "Data analytics has been adopted by most industries, including football. However, the availability of football match data has increased in recent years, allowing anyone involved in football to gain hidden knowledge and predict outcomes.\n",
    "\n",
    "In our literature review, we will concentrate on models that predict the outcomes of football matches based on various baselines. These baselines are statistical and machine learning approaches that rely on statistical machine learning based on historical data about individual teams.\n"
   ]
  },
  {
   "cell_type": "markdown",
   "id": "31513420",
   "metadata": {},
   "source": [
    "## Statistical approaches"
   ]
  },
  {
   "cell_type": "markdown",
   "id": "9e23ea9d",
   "metadata": {
    "citation-manager": {
     "citations": {
      "0tzsj": [
       {
        "id": "11983139/C7ER7JJY",
        "source": "zotero"
       }
      ],
      "3v4le": [
       {
        "id": "11983139/Y23ZDDQG",
        "source": "zotero"
       }
      ],
      "57q3t": [
       {
        "id": "11983139/RPMV87I5",
        "source": "zotero"
       }
      ]
     }
    },
    "tags": []
   },
   "source": [
    "<br>The very first generation of football-related models focused on the distribution of the number of goals scored during a football game.\n",
    "<br>Starting by <cite id=\"3v4le\"><a href=\"#zotero|11983139/Y23ZDDQG\">(Maher, 1982)</a></cite> included a general model that uses an independent poisson distribution to approximate a team's scoring frequency. However, this model assumes that each team's home, away, attack, and defense parameters are constant.\n",
    "<br> <cite id=\"0tzsj\"><a href=\"#zotero|11983139/C7ER7JJY\">(Dixon &#38; Coles, 1997)</a></cite> claimed in their paper that the previous model has certain limitations, such as low score results (0-0, 1-0, 0-1, and 1-1) being inherently unreported and each team's scoring and defending abilities being regarded as constant over time.\n",
    "<br>They proposed a new model with some specific enhancements. This model is a <b>bivariate poisson distribution</b> with parameters based on past performance for the number of goals scored by each team. This implies that recent matches have a greater impact on strength estimates.\n",
    "<br>Unlike previous models that used a <b>Poisson distribution</b>, <cite id=\"57q3t\"><a href=\"#zotero|11983139/RPMV87I5\">(Boshnakov et al., 2017)</a></cite> proposed a new approach that uses an independent and identically distributed <b>Weibull distribution</b> for the number of goals scored by the home and away teams in a match. Furthermore, they allowed for dependence between the goals scored by the two teams by using a copula to generate a bivariate distribution with positive or negative dependence.\n",
    "They compared this <b>bivariate Weibull</b> model to the others and discovered that it provides a good fit to <b>English Premier League</b> data from 2006/2007 to 2015/2016 seasons and achieves positive betting returns."
   ]
  },
  {
   "cell_type": "markdown",
   "id": "3b9c443c",
   "metadata": {},
   "source": [
    "## Bookmakers predictions"
   ]
  },
  {
   "cell_type": "markdown",
   "id": "40e2ee34",
   "metadata": {
    "citation-manager": {
     "citations": {
      "lkvq5": [
       {
        "id": "11983139/KXPDVVLV",
        "source": "zotero"
       }
      ]
     }
    },
    "tags": []
   },
   "source": [
    "Making bets on the outcome of football matches has a long history around the world, and typically entails selecting matches that are thought to be the most likely to end in a draw.\n",
    "Bookmakers provide odds on a match's various outcomes and the simplest version of this relies exclusively on the results which can be a win by either the team playing at home or the team playing away, or a draw. More complex bets on the score or the half-time and full-time results are also available.\n",
    "<br>Football match predictions is a very complex problem in which the outcome of the game is predicted based on the teams' previous performance and the relative abilities of the players in the teams. This implies that the team with the best players should win.\n",
    "<br>Bookmakers set their odds based on this challenge and employ sophisticated pricing models that assign \"odds\" to different outcomes in order to maximize their chances of profit.\n",
    "<br>According to <cite id=\"lkvq5\"><a href=\"#zotero|11983139/KXPDVVLV\">(Beal et al., 2019)</a></cite>, bookmakers' accuracy was around 67% for <b>American football</b>, 74% for <b>basketball</b>, 64% for <b>cricket</b>, 61% for <b>baseball</b>, and only 54% for <b>football</b> during the 2017/2018 season. This is due to the fact that the frequency of goals is far lower than the frequency of points scored in the other sports."
   ]
  },
  {
   "cell_type": "markdown",
   "id": "e3157d27",
   "metadata": {},
   "source": [
    "## Machine Learning approaches"
   ]
  },
  {
   "cell_type": "markdown",
   "id": "ceb82cb7",
   "metadata": {
    "citation-manager": {
     "citations": {
      "nqba9": [
       {
        "id": "11983139/HV42R7G5",
        "source": "zotero"
       }
      ],
      "ua7k3": [
       {
        "id": "11983139/YREYVCH5",
        "source": "zotero"
       }
      ]
     }
    },
    "tags": []
   },
   "source": [
    "To date, <b>probabilistic methods</b> have yielded limited results and appear to have reached a plateau in terms of accuracy because team performance is dependent not only on team abilities but also on a variety of dynamic factors such as team configurations, player health, match location, weather, team strategies, and other external factors.\n",
    "As a result predicting football match outcomes becomes a very complex computational problem.\n",
    "<br>Among the <b>machine learning</b> methods interested in football match predictions, we highlight <b>sentimental analysis</b> of social media platforms. These studies focus on opinion aggregation and underscore the importance of hidden information contained in the sentiment of fans publications.\n",
    "<br> True, fans tweets are unlikely to influence game outcomes, unless they are used to exceptionally motivate or demotivate a team. For example, supporters use social media platforms like <b>Twitter</b> to express their personal feelings, primarily about the team they are following and their next opponent's strengths, weaknesses, and prospects, and this can sometimes help establish betting odds.\n",
    "<br>This method is used by <cite id=\"ua7k3\"><a href=\"#zotero|11983139/YREYVCH5\">(Schumaker et al., 2016)</a></cite> to predict <b>English Premier League</b> matches by analyzing fans tweets during the final three months of the 2013–2014 from February 16 through May 11 2014. It achieved an accuracy of 50%,this system has only two possible outcomes: home team win or away team win. If the model's number of Home or Away tweets was zero, the match was not considered for that model. However, it was discovered that sentiment was unable to recognize a draw outcome, so this category was dropped.\n",
    "<br>As well as that, <cite id=\"nqba9\"><a href=\"#zotero|11983139/HV42R7G5\">(Baboota &#38; Kaur, 2019)</a></cite> investigates the application of machine learning techniques to predict football match outcomes and compares the results to bookmakers. They employ feature engineering and exploratory data analysis to identify the feature set that contains the most important factors for predicting match outcome. The authors put <b>Gaussian naive Bayes</b>, <b>SVM</b>, <b>Random forest</b>, and <b>Gradient boosting</b> to the test. They used training data from 2005 to 2014 in the <b>EPL</b> (English Premier League) and discovered that the <b>Gradient boosting</b> method performed the best with an accuracy of 56.7 %"
   ]
  },
  {
   "cell_type": "markdown",
   "id": "4e46dda7",
   "metadata": {
    "citation-manager": {
     "citations": {
      "0qktm": [
       {
        "id": "11983139/J4T53NKQ",
        "source": "zotero"
       }
      ],
      "onivn": [
       {
        "id": "11983139/YREYVCH5",
        "source": "zotero"
       }
      ],
      "ysqbf": [
       {
        "id": "11983139/C7ER7JJY",
        "source": "zotero"
       }
      ]
     }
    },
    "tags": []
   },
   "source": [
    "Moreover, to address weaknesses described above, recently, a new technique has emerged <cite id=\"0qktm\"><a href=\"#zotero|11983139/J4T53NKQ\">(Beal et al., 2020)</a></cite> that incorporates human expertise and judgment, such as media information, rather than just basic performance statistics, which has helped improve prediction accuracy.\n",
    "<br>These new baselines used a dataset of 6 seasons of <b>English Premier League</b> games from 2013/14 to 2018/19, including football match data, the <b>Guardian</b> previews and predictions from bookmakers odds for 1770 games, employing both statistical machine learning techniques and <b>Natural Language Processing</b>.\n",
    "<br>When <b>NLP</b> methods, <b>statistical approaches</b>, and <b>bookmakers predictions</b> were compared to the ensemble learning approach which combines the first three techniques and uses a <b>Random forest classifier</b>, the results revealed that these methods could be improved.\n",
    "<br>It achieved an accuracy of 63.2 %, a 10.8 % increase over <b>the bookmakers'</b> accuracy(52.43%), 4.1 % more than <cite id=\"ysqbf\"><a href=\"#zotero|11983139/C7ER7JJY\">(Dixon &#38; Coles, 1997)</a></cite> (59.11%) and a 13 % improvement over </b>the sentiment analysis</b> approach in <cite id=\"onivn\"><a href=\"#zotero|11983139/YREYVCH5\">(Schumaker et al., 2016)</a></cite>.\n",
    "<br>Experiments revealed that using the ensemble model increases the likelihood of predicting draws and longshot results. This is especially true when the text vectors model identifies more longshots (38.9 %) by taking into account human input, whereas the first three models are typically poor at predicting these events."
   ]
  },
  {
   "cell_type": "markdown",
   "id": "27368278",
   "metadata": {},
   "source": [
    "## Our contribution"
   ]
  },
  {
   "cell_type": "markdown",
   "id": "eca33c19",
   "metadata": {
    "citation-manager": {
     "citations": {
      "od7fx": [
       {
        "id": "11983139/J4T53NKQ",
        "source": "zotero"
       }
      ],
      "s8i0w": [
       {
        "id": "11983139/6ZJ7BSPZ",
        "source": "zotero"
       }
      ]
     }
    },
    "tags": []
   },
   "source": [
    "In most <b>machine learning</b> situations, we are only concerned with one problem at a time. Whatever the task, the problem is typically outlined as using data to solve or optimize a single metric at a time. However, this approach will eventually reach a performance limit, which is often due to the size of the dataset or the model's ability to derive meaningful representations from it.\n",
    "<br>On the other hand, <b>multitasking learning</b> is a machine learning approach in which we attempt to learn multiple tasks at the same time while optimizing multiple loss functions.Instead of training separate models for each task, we expect a single model to learn how to perform all tasks simultaneously.<br> The model uses all of the data available in the various tasks to learn generalized representations of the data that are useful in multiple contexts during this process.\n",
    "<br>Our contribution to this project is to extend the methodology described in <cite id=\"od7fx\"><a href=\"#zotero|11983139/J4T53NKQ\">(Beal et al., 2020)</a></cite> which consists of developing a model that ensembles three separate models trained separately and to build a <b>multi-head</b> (multi outputs), <b>multi-task</b> deep learning network <cite id=\"s8i0w\"><a href=\"#zotero|11983139/6ZJ7BSPZ\">(Vafaeikia et al., 2020)</a></cite> capable of capturing the game environment as well as more standard time series tabular data.\n",
    "<br>The findings will be compared to traditional and machine learning approaches described in the literature, and the following questions will be addressed: <br><b>Do football experts' human analysis influence the predictions of football matches?</b><br><b>Can this new model outperform the predictions of the bookmakers?</b>"
   ]
  },
  {
   "cell_type": "markdown",
   "id": "5b3b4f1e-120a-4407-8d98-f7a5e0724cb5",
   "metadata": {},
   "source": [
    "## References"
   ]
  },
  {
   "cell_type": "markdown",
   "id": "4ce01ac4-9116-4389-ba76-e02562a60069",
   "metadata": {},
   "source": [
    "<!-- BIBLIOGRAPHY START -->\n",
    "<div class=\"csl-bib-body\">\n",
    "  <div class=\"csl-entry\"><i id=\"zotero|11983139/HV42R7G5\"></i>Baboota, R., &#38; Kaur, H. (2019). Predictive analysis and modelling football results using machine learning approach for English Premier League. <i>International Journal of Forecasting</i>, <i>35</i>(2), 741–755. https://doi.org/10.1016/j.ijforecast.2018.01.003</div>\n",
    "  <div class=\"csl-entry\"><i id=\"zotero|11983139/J4T53NKQ\"></i>Beal, R., Middleton, S. E., Norman, T. J., &#38; Ramchurn, S. D. (2020). Combining Machine Learning and Human Experts to Predict Match Outcomes in Football: A Baseline Model. <i>arXiv:2012.04380 [Cs]</i>. http://arxiv.org/abs/2012.04380</div>\n",
    "  <div class=\"csl-entry\"><i id=\"zotero|11983139/KXPDVVLV\"></i>Beal, R., Norman, T. J., &#38; Ramchurn, S. D. (2019). Artificial intelligence for team sports: a survey. <i>The Knowledge Engineering Review</i>, <i>34</i>. https://doi.org/10.1017/S0269888919000225</div>\n",
    "  <div class=\"csl-entry\"><i id=\"zotero|11983139/RPMV87I5\"></i>Boshnakov, G., Kharrat, T., &#38; McHale, I. G. (2017). A bivariate Weibull count model for forecasting association football scores. <i>International Journal of Forecasting</i>, <i>33</i>(2), 458–466. https://doi.org/10.1016/j.ijforecast.2016.11.006</div>\n",
    "  <div class=\"csl-entry\"><i id=\"zotero|11983139/C7ER7JJY\"></i>Dixon, M. J., &#38; Coles, S. G. (1997). Modelling Association Football Scores and Inefficiencies in the Football Betting Market. <i>Journal of the Royal Statistical Society: Series C (Applied Statistics)</i>, <i>46</i>(2), 265–280. https://doi.org/10.1111/1467-9876.00065</div>\n",
    "  <div class=\"csl-entry\"><i id=\"zotero|11983139/Y23ZDDQG\"></i>Maher, M. J. (1982). Modelling association football scores. <i>Statistica Neerlandica</i>, <i>36</i>(3), 109–118. https://doi.org/10.1111/j.1467-9574.1982.tb00782.x</div>\n",
    "  <div class=\"csl-entry\"><i id=\"zotero|11983139/YREYVCH5\"></i>Schumaker, R. P., Jarmoszko, A. T., &#38; Labedz, C. S. (2016). Predicting wins and spread in the Premier League using a sentiment analysis of twitter. <i>Decision Support Systems</i>, <i>88</i>, 76–84. https://doi.org/10.1016/j.dss.2016.05.010</div>\n",
    "  <div class=\"csl-entry\"><i id=\"zotero|11983139/6ZJ7BSPZ\"></i>Vafaeikia, P., Namdar, K., &#38; Khalvati, F. (2020). A Brief Review of Deep Multi-task Learning and Auxiliary Task Learning. <i>arXiv:2007.01126 [Cs, Stat]</i>. http://arxiv.org/abs/2007.01126</div>\n",
    "</div>\n",
    "<!-- BIBLIOGRAPHY END -->"
   ]
  }
 ],
 "metadata": {
  "citation-manager": {
   "items": {
    "zotero": {
     "11983139/6ZJ7BSPZ": {
      "URL": "http://arxiv.org/abs/2007.01126",
      "abstract": "Multi-task learning (MTL) optimizes several learning tasks simultaneously and leverages their shared information to improve generalization and the prediction of the model for each task. Auxiliary tasks can be added to the main task to ultimately boost the performance. In this paper, we provide a brief review on the recent deep multi-task learning (dMTL) approaches followed by methods on selecting useful auxiliary tasks that can be used in dMTL to improve the performance of the model for the main task.",
      "accessed": {
       "date-parts": [
        [
         2022,
         2,
         11
        ]
       ]
      },
      "author": [
       {
        "family": "Vafaeikia",
        "given": "Partoo"
       },
       {
        "family": "Namdar",
        "given": "Khashayar"
       },
       {
        "family": "Khalvati",
        "given": "Farzad"
       }
      ],
      "container-title": "arXiv:2007.01126 [cs, stat]",
      "id": "11983139/6ZJ7BSPZ",
      "issued": {
       "date-parts": [
        [
         2020,
         7,
         2
        ]
       ]
      },
      "note": "arXiv: 2007.01126",
      "system_id": "zotero|11983139/6ZJ7BSPZ",
      "title": "A Brief Review of Deep Multi-task Learning and Auxiliary Task Learning",
      "type": "article-journal"
     },
     "11983139/C7ER7JJY": {
      "DOI": "10.1111/1467-9876.00065",
      "URL": "https://onlinelibrary.wiley.com/doi/abs/10.1111/1467-9876.00065",
      "abstract": "A parametric model is developed and fitted to English league and cup football data from 1992 to 1995. The model is motivated by an aim to exploit potential inefficiencies in the association football betting market, and this is examined using bookmakers' odds from 1995 to 1996. The technique is based on a Poisson regression model but is complicated by the data structure and the dynamic nature of teams' performances. Maximum likelihood estimates are shown to be computationally obtainable, and the model is shown to have a positive return when used as the basis of a betting strategy.",
      "accessed": {
       "date-parts": [
        [
         2022,
         2,
         11
        ]
       ]
      },
      "author": [
       {
        "family": "Dixon",
        "given": "Mark J."
       },
       {
        "family": "Coles",
        "given": "Stuart G."
       }
      ],
      "container-title": "Journal of the Royal Statistical Society: Series C (Applied Statistics)",
      "id": "11983139/C7ER7JJY",
      "issue": "2",
      "issued": {
       "date-parts": [
        [
         1997
        ]
       ]
      },
      "language": "en",
      "page": "265-280",
      "system_id": "zotero|11983139/C7ER7JJY",
      "title": "Modelling Association Football Scores and Inefficiencies in the Football Betting Market",
      "type": "article-journal",
      "volume": "46"
     },
     "11983139/HV42R7G5": {
      "DOI": "10.1016/j.ijforecast.2018.01.003",
      "URL": "https://www.sciencedirect.com/science/article/pii/S0169207018300116",
      "abstract": "The introduction of artificial intelligence has given us the ability to build predictive systems with unprecedented accuracy. Machine learning is being used in virtually all areas in one way or another, due to its extreme effectiveness. One such area where predictive systems have gained a lot of popularity is the prediction of football match results. This paper demonstrates our work on the building of a generalized predictive model for predicting the results of the English Premier League. Using feature engineering and exploratory data analysis, we create a feature set for determining the most important factors for predicting the results of a football match, and consequently create a highly accurate predictive system using machine learning. We demonstrate the strong dependence of our models’ performances on important features. Our best model using gradient boosting achieved a performance of 0.2156 on the ranked probability score (RPS) metric for game weeks 6 to 38 for the English Premier League aggregated over two seasons (2014–2015 and 2015–2016), whereas the betting organizations that we consider (Bet365 and Pinnacle Sports) obtained an RPS value of 0.2012 for the same period. Since a lower RPS value represents a higher predictive accuracy, our model was not able to outperform the bookmaker’s predictions, despite obtaining promising results.",
      "accessed": {
       "date-parts": [
        [
         2022,
         2,
         24
        ]
       ]
      },
      "author": [
       {
        "family": "Baboota",
        "given": "Rahul"
       },
       {
        "family": "Kaur",
        "given": "Harleen"
       }
      ],
      "container-title": "International Journal of Forecasting",
      "id": "11983139/HV42R7G5",
      "issue": "2",
      "issued": {
       "date-parts": [
        [
         "2019",
         4,
         1
        ]
       ]
      },
      "journalAbbreviation": "International Journal of Forecasting",
      "language": "en",
      "page": "741-755",
      "system_id": "zotero|11983139/HV42R7G5",
      "title": "Predictive analysis and modelling football results using machine learning approach for English Premier League",
      "type": "article-journal",
      "volume": "35"
     },
     "11983139/J4T53NKQ": {
      "URL": "http://arxiv.org/abs/2012.04380",
      "abstract": "In this paper, we present a new application-focused benchmark dataset and results from a set of baseline Natural Language Processing and Machine Learning models for prediction of match outcomes for games of football (soccer). By doing so we give a baseline for the prediction accuracy that can be achieved exploiting both statistical match data and contextual articles from human sports journalists. Our dataset is focuses on a representative time-period over 6 seasons of the English Premier League, and includes newspaper match previews from The Guardian. The models presented in this paper achieve an accuracy of 63.18% showing a 6.9% boost on the traditional statistical methods.",
      "accessed": {
       "date-parts": [
        [
         2022,
         2,
         24
        ]
       ]
      },
      "author": [
       {
        "family": "Beal",
        "given": "Ryan"
       },
       {
        "family": "Middleton",
        "given": "Stuart E."
       },
       {
        "family": "Norman",
        "given": "Timothy J."
       },
       {
        "family": "Ramchurn",
        "given": "Sarvapali D."
       }
      ],
      "container-title": "arXiv:2012.04380 [cs]",
      "id": "11983139/J4T53NKQ",
      "issued": {
       "date-parts": [
        [
         2020,
         12,
         8
        ]
       ]
      },
      "note": "arXiv: 2012.04380",
      "shortTitle": "Combining Machine Learning and Human Experts to Predict Match Outcomes in Football",
      "system_id": "zotero|11983139/J4T53NKQ",
      "title": "Combining Machine Learning and Human Experts to Predict Match Outcomes in Football: A Baseline Model",
      "type": "article-journal"
     },
     "11983139/KXPDVVLV": {
      "DOI": "10.1017/S0269888919000225",
      "URL": "https://www.cambridge.org/core/journals/knowledge-engineering-review/article/abs/artificial-intelligence-for-team-sports-a-survey/2E0E32861D031C022603F670B23B55B3",
      "abstract": "The sports domain presents a number of significant computational challenges for artificial intelligence (AI) and machine learning (ML). In this paper, we explore the techniques that have been applied to the challenges within team sports thus far. We focus on a number of different areas, namely match outcome prediction, tactical decision making, player investments, fantasy sports, and injury prediction. By assessing the work in these areas, we explore how AI is used to predict match outcomes and to help sports teams improve their strategic and tactical decision making. In particular, we describe the main directions in which research efforts have been focused to date. This highlights not only a number of strengths but also weaknesses of the models and techniques that have been employed. Finally, we discuss the research questions that exist in order to further the use of AI and ML in team sports.",
      "accessed": {
       "date-parts": [
        [
         2022,
         2,
         24
        ]
       ]
      },
      "author": [
       {
        "family": "Beal",
        "given": "Ryan"
       },
       {
        "family": "Norman",
        "given": "Timothy J."
       },
       {
        "family": "Ramchurn",
        "given": "Sarvapali D."
       }
      ],
      "container-title": "The Knowledge Engineering Review",
      "id": "11983139/KXPDVVLV",
      "issued": {
       "date-parts": [
        [
         "2019"
        ]
       ],
       "season": "ed"
      },
      "language": "en",
      "shortTitle": "Artificial intelligence for team sports",
      "system_id": "zotero|11983139/KXPDVVLV",
      "title": "Artificial intelligence for team sports: a survey",
      "type": "article-journal",
      "volume": "34"
     },
     "11983139/RPMV87I5": {
      "DOI": "10.1016/j.ijforecast.2016.11.006",
      "URL": "https://www.sciencedirect.com/science/article/pii/S0169207017300018",
      "abstract": "The paper presents a model for forecasting association football scores. The model uses a Weibull inter-arrival-times-based count process and a copula to produce a bivariate distribution of the numbers of goals scored by the home and away teams in a match. We test it against a variety of alternatives, including the simpler Poisson distribution-based model and an independent version of our model. The out-of-sample performance of our methodology is illustrated using, first, calibration curves, then a Kelly-type betting strategy that is applied to the pre-match win/draw/loss market and to the over–under 2.5 goals market. The new model provides an improved fit to the data relative to previous models, and results in positive returns to betting.",
      "accessed": {
       "date-parts": [
        [
         2022,
         2,
         24
        ]
       ]
      },
      "author": [
       {
        "family": "Boshnakov",
        "given": "Georgi"
       },
       {
        "family": "Kharrat",
        "given": "Tarak"
       },
       {
        "family": "McHale",
        "given": "Ian G."
       }
      ],
      "container-title": "International Journal of Forecasting",
      "id": "11983139/RPMV87I5",
      "issue": "2",
      "issued": {
       "date-parts": [
        [
         "2017",
         4,
         1
        ]
       ]
      },
      "journalAbbreviation": "International Journal of Forecasting",
      "language": "en",
      "page": "458-466",
      "system_id": "zotero|11983139/RPMV87I5",
      "title": "A bivariate Weibull count model for forecasting association football scores",
      "type": "article-journal",
      "volume": "33"
     },
     "11983139/Y23ZDDQG": {
      "DOI": "10.1111/j.1467-9574.1982.tb00782.x",
      "URL": "https://onlinelibrary.wiley.com/doi/abs/10.1111/j.1467-9574.1982.tb00782.x",
      "abstract": "Previous authors have rejected the Poisson model for association football scores in favour of the Negative Binomial. This paper, however, investigates the Poisson model further. Parameters representing the teams' inherent attacking and defensive strengths are incorporated and the most appropriate model is found from a hierarchy of models. Observed and expected frequencies of scores are compared and goodness-of-fit tests show that although there are some small systematic differences, an independent Poisson model gives a reasonably accurate description of football scores. Improvements can be achieved by the use of a bivariate Poisson model with a correlation between scores of 0.2.",
      "accessed": {
       "date-parts": [
        [
         2022,
         2,
         23
        ]
       ]
      },
      "author": [
       {
        "family": "Maher",
        "given": "M. J."
       }
      ],
      "container-title": "Statistica Neerlandica",
      "id": "11983139/Y23ZDDQG",
      "issue": "3",
      "issued": {
       "date-parts": [
        [
         1982
        ]
       ]
      },
      "language": "en",
      "page": "109-118",
      "system_id": "zotero|11983139/Y23ZDDQG",
      "title": "Modelling association football scores",
      "type": "article-journal",
      "volume": "36"
     },
     "11983139/YREYVCH5": {
      "DOI": "10.1016/j.dss.2016.05.010",
      "URL": "https://www.sciencedirect.com/science/article/pii/S0167923616300835",
      "abstract": "Can the sentiment contained in tweets serve as a meaningful proxy to predict match outcomes and if so, can the magnitude of outcomes be predicted based on a degree of sentiment? To answer these questions we constructed the CentralSport system to gather tweets related to the twenty clubs of the English Premier League and analyze their sentiment content, not only to predict match outcomes, but also to use as a wagering decision system. From our analysis, tweet sentiment outperformed wagering on odds-favorites, with higher payout returns (best $2704.63 versus odds-only $1887.88) but lower accuracy, a trade-off from non-favorite wagering. This result may suggest a performance degradation that arises from conservatism in the odds-setting process, especially when three match results are possible outcomes. We found that leveraging a positive tweet sentiment surge over club average could net a payout of $3011.20. Lastly, we found that as the magnitude of positive sentiment between two clubs increased, so too did the point spread; 0.42 goal difference for clubs with a slight positive edge versus 0.90 goal difference for an overwhelming difference in positive sentiment. In both these cases, the cultural expectancy of positive tweet dominance within the twitter-base may be realistic. These outcomes may suggest that professional odds-making excessively predicts non-positive match outcomes and tighter goal spreads. These results demonstrate the power of hidden information contained within tweet sentiment and has predictive implications on the design of automated wagering systems.",
      "accessed": {
       "date-parts": [
        [
         2022,
         2,
         24
        ]
       ]
      },
      "author": [
       {
        "family": "Schumaker",
        "given": "Robert P."
       },
       {
        "family": "Jarmoszko",
        "given": "A. Tomasz"
       },
       {
        "family": "Labedz",
        "given": "Chester S."
       }
      ],
      "container-title": "Decision Support Systems",
      "id": "11983139/YREYVCH5",
      "issued": {
       "date-parts": [
        [
         "2016",
         8,
         1
        ]
       ]
      },
      "journalAbbreviation": "Decision Support Systems",
      "language": "en",
      "page": "76-84",
      "system_id": "zotero|11983139/YREYVCH5",
      "title": "Predicting wins and spread in the Premier League using a sentiment analysis of twitter",
      "type": "article-journal",
      "volume": "88"
     }
    }
   }
  },
  "kernelspec": {
   "display_name": "Python 3 (ipykernel)",
   "language": "python",
   "name": "python3"
  },
  "language_info": {
   "codemirror_mode": {
    "name": "ipython",
    "version": 3
   },
   "file_extension": ".py",
   "mimetype": "text/x-python",
   "name": "python",
   "nbconvert_exporter": "python",
   "pygments_lexer": "ipython3",
   "version": "3.9.7"
  }
 },
 "nbformat": 4,
 "nbformat_minor": 5
}
